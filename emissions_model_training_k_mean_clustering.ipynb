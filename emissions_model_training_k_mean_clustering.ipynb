{
 "cells": [
  {
   "cell_type": "markdown",
   "metadata": {},
   "source": [
    "# Emissions Model Training with K-Means Clustering\n",
    "\n",
    "This file contains the model training for K-Means clustering aiming to group boroughs into clusters based on pollution caused by different types of vehicles.\n",
    "\n",
    "\n",
    "#### Objective:\n",
    "The objective is to train a K-Means clustering model that categorizes boroughs into clusters based on their overall emissions profile.\n",
    "\n",
    "#### Input:\n",
    "The input data consists of the following features:\n",
    "\n",
    "| Name                   | Description                                 | Column Name           | Data Type |\n",
    "|------------------------|---------------------------------------------|-----------------------|-----------|\n",
    "| Borough Name           | Exact borough name                          | BoroughName_ExactCut  | Object    |\n",
    "| Length (m)             | Length in meters (e.g., length of roads)    | Length (m)            | Float64   |\n",
    "| Pollutant              | Amount of pollution caused by vehicles      | Pollutant             | Float64   |\n",
    "| Petrol Car             | Amount of pollution caused by petrol cars   | PetrolCar             | Float64   |\n",
    "| Diesel Car             | Amount of pollution caused by diesel cars   | DieselCar             | Float64   |\n",
    "| Petrol LGV             | Amount of pollution caused by petrol LGVs   | PetrolLgv             | Float64   |\n",
    "| Diesel LGV             | Amount of pollution caused by diesel LGVs   | DieselLgv             | Float64   |\n",
    "| Electric Car           | Amount of pollution caused by electric cars | ElectricCar           | Float64   |\n",
    "| Electric LGV           | Amount of pollution caused by electric LGVs | ElectricLgv           | Float64   |\n",
    "\n",
    "#### Output:\n",
    "The trained K-Means clustering model groups boroughs into clusters based on their overall emissions profile.\n"
   ]
  },
  {
   "cell_type": "markdown",
   "metadata": {},
   "source": [
    "### Imports"
   ]
  },
  {
   "cell_type": "code",
   "execution_count": null,
   "metadata": {},
   "outputs": [],
   "source": [
    "import pandas as pd\n",
    "import matplotlib.pyplot as plt\n",
    "from sklearn.cluster import KMeans\n",
    "from sklearn.compose import ColumnTransformer\n",
    "from sklearn.preprocessing import OneHotEncoder\n",
    "from sklearn.decomposition import TruncatedSVD"
   ]
  },
  {
   "cell_type": "markdown",
   "metadata": {},
   "source": [
    "### Preprocessing Function"
   ]
  },
  {
   "cell_type": "code",
   "execution_count": 4,
   "metadata": {},
   "outputs": [],
   "source": [
    "\"\"\"\n",
    "This function loads the dataset from the given filepath, preprocesses and returns it.\n",
    "\"\"\"\n",
    "\n",
    "def preprocess(filepath):\n",
    "    # Load dataset\n",
    "    df = pd.read_csv(filepath)\n",
    "    \n",
    "    # Calculate total emissions for each row\n",
    "    vehicle_emissions = ['PetrolCar', 'DieselCar', 'PetrolLgv', 'DieselLgv', 'ElectricCar', 'ElectricLgv']\n",
    "    df['Total_Emissions'] = df[vehicle_emissions].sum(axis=1)\n",
    "    \n",
    "    # Standardize emissions by length (emissions per meter)\n",
    "    df['Emissions_Per_M'] = df['Total_Emissions'] / df['Length (m)']\n",
    "    \n",
    "    # Calculate average emissions per meter for each borough and pollutant\n",
    "    avg_emissions = df.groupby(['BoroughName_ExactCut', 'Pollutant'])['Emissions_Per_M'].transform('mean')\n",
    "    \n",
    "    # Add average emissions to the dataframe\n",
    "    df['Avg_Emissions_Per_M'] = avg_emissions\n",
    "\n",
    "    # Drop unnecessary columns\n",
    "    df = df.drop(columns=['Total_Emissions', 'Length (m)', 'Emissions_Per_M'] + vehicle_emissions)\n",
    "    \n",
    "    # Drop duplicates\n",
    "    df = df.drop_duplicates(subset=['BoroughName_ExactCut', 'Pollutant'])\n",
    "    \n",
    "    return df"
   ]
  },
  {
   "cell_type": "markdown",
   "metadata": {},
   "source": [
    "### Model Training"
   ]
  },
  {
   "cell_type": "code",
   "execution_count": null,
   "metadata": {},
   "outputs": [],
   "source": [
    "# Filepath to the training dataset\n",
    "train_filepath = './data/emissions_clean_train.csv'\n",
    "\n",
    "# Preprocessing the training dataset\n",
    "train_df = preprocess(train_filepath)\n",
    "\n",
    "# Define the column transformer\n",
    "column_transformer = ColumnTransformer([\n",
    "    ('OneHotEncoder', OneHotEncoder(handle_unknown='ignore'), ['BoroughName_ExactCut'])\n",
    "], remainder='passthrough')\n",
    "\n",
    "# List of unique pollutants\n",
    "unique_pollutants = train_df['Pollutant'].unique()\n",
    "\n",
    "# Number of clusters\n",
    "n_clusters = 3\n",
    "\n",
    "# Dictionary to store the trained K-Means models for each pollutant\n",
    "models = {}\n",
    "\n",
    "for pollutant in unique_pollutants:\n",
    "    # Filter the dataset for the current pollutant\n",
    "    pollutant_df = train_df[train_df['Pollutant'] == pollutant]\n",
    "    \n",
    "    # Exclude 'Pollutant' column as it's not needed for the model input\n",
    "    X = pollutant_df.drop(['Pollutant'], axis=1)\n",
    "    \n",
    "    # Apply the column transformer to prepare the dataset\n",
    "    X_transformed = column_transformer.fit_transform(X)\n",
    "    \n",
    "    # Train the K-Means model\n",
    "    kmeans = KMeans(n_clusters=n_clusters, n_init=10, random_state=999)\n",
    "    kmeans.fit(X_transformed)\n",
    "    \n",
    "    # Store the trained model in the dictionary\n",
    "    models[pollutant] = kmeans"
   ]
  },
  {
   "cell_type": "markdown",
   "metadata": {},
   "source": [
    "### Model Evaluation"
   ]
  },
  {
   "cell_type": "code",
   "execution_count": null,
   "metadata": {},
   "outputs": [],
   "source": [
    "# Retrieve the model and the transformed data for \"CO2\" pollutant\n",
    "kmeans_co2 = models[\"CO2\"]\n",
    "\n",
    "# Apply TruncatedSVD to reduce the dimensionality of X_transformed to 2 dimensions\n",
    "svd = TruncatedSVD(n_components=2)\n",
    "X_svd = svd.fit_transform(X_transformed)\n",
    "\n",
    "# Project the centroids to the 2D space\n",
    "centroids_svd = svd.transform(kmeans_co2.cluster_centers_)\n",
    "\n",
    "# Visualize the SVD-reduced data points and centroids\n",
    "plt.figure(figsize=(10, 7))\n",
    "plt.scatter(X_svd[:, 0], X_svd[:, 1], alpha=0.5, c=kmeans_co2.labels_, cmap='viridis', marker='o', edgecolor='k', s=50, label='Data Points')\n",
    "plt.scatter(centroids_svd[:, 0], centroids_svd[:, 1], c='red', s=200, alpha=0.75, marker='X', label='Centroids')\n",
    "\n",
    "# Annotate the centroids\n",
    "plt.xlabel('SVD Component 1')\n",
    "plt.ylabel('SVD Component 2')\n",
    "plt.title('K-Means Clustering Visualization with Centroids (SVD)')\n",
    "plt.legend()\n",
    "plt.show()"
   ]
  }
 ],
 "metadata": {
  "kernelspec": {
   "display_name": "Python 3 (ipykernel)",
   "language": "python",
   "name": "python3"
  },
  "language_info": {
   "codemirror_mode": {
    "name": "ipython",
    "version": 3
   },
   "file_extension": ".py",
   "mimetype": "text/x-python",
   "name": "python",
   "nbconvert_exporter": "python",
   "pygments_lexer": "ipython3",
   "version": "3.11.7"
  }
 },
 "nbformat": 4,
 "nbformat_minor": 4
}
