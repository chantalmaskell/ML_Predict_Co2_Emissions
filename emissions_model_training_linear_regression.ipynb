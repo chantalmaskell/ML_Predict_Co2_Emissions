{
 "cells": [
  {
   "cell_type": "markdown",
   "metadata": {},
   "source": [
    "# Emissions Model Training with Linear Regression\n",
    "\n",
    "This file contains the model training for a linear regression model aiming to predict CO2 emissions based on road length and pollution caused by different types of vehicles.\n",
    "\n",
    "#### Objective:\n",
    "The objective is to train a linear regression model that predicts CO2 emissions based on road length and pollution caused by different types of vehicles.\n",
    "\n",
    "#### Input:\n",
    "The input data consists of the following features:\n",
    "\n",
    "| Name                   | Description                                 | Column Name           | Data Type |\n",
    "|------------------------|---------------------------------------------|-----------------------|-----------|\n",
    "| Borough Name           | Exact borough name                          | BoroughName_ExactCut  | Object    |\n",
    "| Road Length (m)        | Length of road in meters                    | Length (m)            | Float64   |\n",
    "| Pollutant              | Amount of pollution caused by vehicles      | Pollutant             | Float64   |\n",
    "| Petrol Car             | Amount of pollution caused by petrol cars   | PetrolCar             | Float64   |\n",
    "| Diesel Car             | Amount of pollution caused by diesel cars   | DieselCar             | Float64   |\n",
    "| Petrol LGV             | Amount of pollution caused by petrol LGVs   | PetrolLgv             | Float64   |\n",
    "| Diesel LGV             | Amount of pollution caused by diesel LGVs   | DieselLgv             | Float64   |\n",
    "| Electric Car           | Amount of pollution caused by electric cars | ElectricCar           | Float64   |\n",
    "| Electric LGV           | Amount of pollution caused by electric LGVs | ElectricLgv           | Float64   |\n",
    "\n",
    "#### Output:\n",
    "The trained linear regression model predicts CO2 emissions based on road length pollution caused by different types of vehicles.\n"
   ]
  },
  {
   "cell_type": "markdown",
   "metadata": {},
   "source": [
    "### Imports"
   ]
  },
  {
   "cell_type": "code",
   "execution_count": 1,
   "metadata": {},
   "outputs": [],
   "source": [
    "import pandas as pd\n",
    "from sklearn.model_selection import train_test_split\n",
    "from sklearn.linear_model import LinearRegression\n",
    "from sklearn.metrics import mean_squared_error\n",
    "import matplotlib.pyplot as plt"
   ]
  },
  {
   "cell_type": "markdown",
   "metadata": {},
   "source": [
    "### Reading the Dataset"
   ]
  },
  {
   "cell_type": "code",
   "execution_count": 12,
   "metadata": {},
   "outputs": [
    {
     "name": "stdout",
     "output_type": "stream",
     "text": [
      "converted ./data/LAEI2013_MajorRoads_EmissionsbyLink_2013.xlsx to ./data/End_of_Module_Assignment.csv\n"
     ]
    }
   ],
   "source": [
    "excel_file = r'./data/LAEI2013_MajorRoads_EmissionsbyLink_2013.xlsx'\n",
    "df = pd.read_excel(excel_file)\n",
    "\n",
    "csv_file = './data/End_of_Module_Assignment.csv'\n",
    "df.to_csv(csv_file, index = False)\n",
    "\n",
    "print(f\"converted {excel_file} to {csv_file}\")"
   ]
  },
  {
   "cell_type": "code",
   "execution_count": 3,
   "metadata": {},
   "outputs": [],
   "source": [
    "file_path= './data/Εnd_of_Module_Assignment.csv'"
   ]
  },
  {
   "cell_type": "code",
   "execution_count": 4,
   "metadata": {},
   "outputs": [],
   "source": [
    "# Cleaning the data by replacing the blank entries with NA\n",
    "df['PetrolCar'].replace('-', pd.NA, inplace = True)\n",
    "df['PetrolLgv'].replace('-', pd.NA, inplace = True)\n",
    "df['DieselLgv'].replace('-', pd.NA, inplace = True)\n"
   ]
  },
  {
   "cell_type": "code",
   "execution_count": 5,
   "metadata": {},
   "outputs": [
    {
     "name": "stdout",
     "output_type": "stream",
     "text": [
      "Column 'Pollutant' exists.\n",
      "Number of missing values in 'Pollutant' column: 0\n"
     ]
    }
   ],
   "source": [
    "# Check if 'Pollutant' column exists in the DataFrame\n",
    "if 'Pollutant' in df.columns:\n",
    "    print(\"Column 'Pollutant' exists.\")\n",
    "else:\n",
    "    print(\"Column 'Pollutant' does not exist.\")\n",
    "\n",
    "# Check for any possible typos in the column name\n",
    "if 'Pollutant' not in df.columns:\n",
    "    possible_columns = [col for col in df.columns if 'pollutant' in col.lower()]\n",
    "    print(\"Possible columns containing 'pollutant':\", possible_columns)\n",
    "\n",
    "# Check for missing values in the 'Pollutant' column\n",
    "missing_values_count = df['Pollutant'].isnull().sum()\n",
    "print(\"Number of missing values in 'Pollutant' column:\", missing_values_count)"
   ]
  },
  {
   "cell_type": "code",
   "execution_count": 6,
   "metadata": {},
   "outputs": [],
   "source": [
    "unique_pollutants = df['Pollutant'].unique()\n",
    "# Due the data being non-numeric I had to convert the data by creating a new column in the dataset which added numerical values for the pollutants column\n",
    "pollutant_mapping = {pollutant: i for i, pollutant in enumerate(unique_pollutants)}\n",
    "\n",
    "#Map CO2 as a specific numeric value (e.g, 0)\n",
    "pollutant_mapping['CO2'] = 0\n",
    "pollutant_mapping['NOx'] = 1\n",
    "pollutant_mapping['PM10_Brake'] = 2\n",
    "pollutant_mapping['PM10_Exhaust'] = 3\n",
    "pollutant_mapping['PM10_Resusp'] =4\n",
    "pollutant_mapping['PM10_Tyre'] = 5\n",
    "pollutant_mapping['PM25_Brake'] = 6\n",
    "pollutant_mapping['PM25_Exhaust'] = 7\n",
    "pollutant_mapping['PM25_Resusp'] = 8\n",
    "pollutant_mapping['PM25_Tyre'] = 9\n",
    "\n",
    "# Create a new column 'Pollutant_Numeric' with mapped values\n",
    "df['Pollutant_Numeric'] = df['Pollutant'].map(pollutant_mapping)\n"
   ]
  },
  {
   "cell_type": "markdown",
   "metadata": {},
   "source": []
  },
  {
   "cell_type": "code",
   "execution_count": 7,
   "metadata": {},
   "outputs": [],
   "source": [
    "# Split the data into features (X) and target variable (y) \n",
    "X = df.drop('Pollutant_Numeric' , axis=1) #Drops the target column\n",
    "y = df['Pollutant_Numeric'] #Select the target column name"
   ]
  },
  {
   "cell_type": "code",
   "execution_count": 8,
   "metadata": {},
   "outputs": [],
   "source": [
    "# Perform one-hot encoding for categorical variables\n",
    "X = pd.get_dummies(X)\n"
   ]
  },
  {
   "cell_type": "code",
   "execution_count": 9,
   "metadata": {},
   "outputs": [
    {
     "name": "stdout",
     "output_type": "stream",
     "text": [
      "Mean Squared Error: 9.968032376981062e-24\n"
     ]
    }
   ],
   "source": [
    "#Split the data into training and testing sets\n",
    "X_train, X_test, y_train, y_test = train_test_split(X,y, test_size=0.2, random_state=42)\n",
    "\n",
    "#Initialise and fit the linear regression model\n",
    "model = LinearRegression()\n",
    "model.fit(X_train, y_train)\n",
    "\n",
    "#Predict on the test set\n",
    "y_pred = model.predict(X_test)\n",
    "\n",
    "#Evaluating the model\n",
    "mse = mean_squared_error(y_test, y_pred)\n",
    "print(\"Mean Squared Error:\", mse)"
   ]
  },
  {
   "cell_type": "code",
   "execution_count": 10,
   "metadata": {},
   "outputs": [
    {
     "name": "stdout",
     "output_type": "stream",
     "text": [
      "R2 Score: 1.0\n"
     ]
    }
   ],
   "source": [
    "from sklearn.metrics import r2_score\n",
    "# Calculate R2 score\n",
    "r2 = r2_score(y_test, y_pred)\n",
    "\n",
    "# Print the R2 score\n",
    "print(\"R2 Score:\", r2)"
   ]
  },
  {
   "cell_type": "code",
   "execution_count": 11,
   "metadata": {},
   "outputs": [
    {
     "data": {
      "image/png": "[encoded data removed]",
      "text/plain": [
       "<Figure size 640x480 with 1 Axes>"
      ]
     },
     "metadata": {},
     "output_type": "display_data"
    }
   ],
   "source": [
    "# Plotting the actual vs predicted values\n",
    "plt.scatter(y_test, y_pred)\n",
    "plt.plot([y_test.min(), y_test.max()], [y_test.min(), y_test.max()], 'k--', lw=2)\n",
    "plt.xlabel('Actual')\n",
    "plt.ylabel('Predicted')\n",
    "plt.title('Actual vs Predicted values')\n",
    "plt.show()"
   ]
  }
 ],
 "metadata": {
  "kernelspec": {
   "display_name": "jupyter-notebook-tutorial",
   "language": "python",
   "name": "python3"
  },
  "language_info": {
   "codemirror_mode": {
    "name": "ipython",
    "version": 3
   },
   "file_extension": ".py",
   "mimetype": "text/x-python",
   "name": "python",
   "nbconvert_exporter": "python",
   "pygments_lexer": "ipython3",
   "version": "3.11.7"
  }
 },
 "nbformat": 4,
 "nbformat_minor": 2
}
