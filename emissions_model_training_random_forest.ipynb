{
 "cells": [
  {
   "cell_type": "markdown",
   "metadata": {},
   "source": [
    "# Emissions Model Training with Random Forest\n",
    "\n",
    "This file contains the model training for a random forest algorithm aiming to classify boroughs into categories based on CO2 emissions intensity.\n",
    "\n",
    "#### Objective:\n",
    "The objective is to train a random forest classifier that categorizes boroughs into Low, Medium, or High Emission Areas.\n",
    "\n",
    "#### Input:\n",
    "The input data consists of the following features:\n",
    "\n",
    "| Name                   | Description                                    | Column Name           | Data Type |\n",
    "|------------------------|------------------------------------------------|-----------------------|-----------|\n",
    "| Borough Name           | Exact borough name                             | BoroughName_ExactCut  | Object    |\n",
    "| Length (m)             | Length in meters (e.g., length of roads)       | Length (m)            | Float64   |\n",
    "| Pollutant              | Amount of pollution caused by vehicles         | Pollutant             | Float64   |\n",
    "| Petrol Car             | Amount of pollution caused by petrol cars      | PetrolCar             | Float64   |\n",
    "| Diesel Car             | Amount of pollution caused by diesel cars      | DieselCar             | Float64   |\n",
    "| Petrol LGV             | Amount of pollution caused by petrol LGVs      | PetrolLgv             | Float64   |\n",
    "| Diesel LGV             | Amount of pollution caused by diesel LGVs      | DieselLgv             | Float64   |\n",
    "| Electric Car           | Amount of pollution caused by electric cars    | ElectricCar           | Float64   |\n",
    "| Electric LGV           | Amount of pollution caused by electric LGVs    | ElectricLgv           | Float64   |\n",
    "\n",
    "#### Output:\n",
    "The trained random forest classifier categorises boroughs into Low, Medium, or High Emission Areas based on CO2 emissions intensity.\n"
   ]
  },
  {
   "cell_type": "markdown",
   "metadata": {},
   "source": [
    "### Imports"
   ]
  },
  {
   "cell_type": "code",
   "execution_count": 11,
   "metadata": {},
   "outputs": [],
   "source": [
    "import pandas as pd\n",
    "from sklearn.preprocessing import OneHotEncoder\n",
    "from sklearn.compose import ColumnTransformer\n",
    "from sklearn.pipeline import Pipeline\n",
    "from sklearn.ensemble import RandomForestClassifier\n",
    "from sklearn.metrics import classification_report"
   ]
  },
  {
   "cell_type": "markdown",
   "metadata": {},
   "source": [
    "### Preprocessing Function"
   ]
  },
  {
   "cell_type": "code",
   "execution_count": 12,
   "metadata": {},
   "outputs": [],
   "source": [
    "\"\"\"\n",
    "This function loads the dataset from the given filepath, preprocesses and returns it.\n",
    "\"\"\"\n",
    "\n",
    "def preprocess(filepath):\n",
    "    # Load dataset\n",
    "    df = pd.read_csv(filepath)\n",
    "    \n",
    "    # Filter by CO2 pollutant\n",
    "    df = df[df['Pollutant'].str.contains(\"CO2\")]\n",
    "    \n",
    "    # Calculate total emissions for each row\n",
    "    vehicle_emissions = ['PetrolCar', 'DieselCar', 'PetrolLgv', 'DieselLgv', 'ElectricCar', 'ElectricLgv']\n",
    "    df['Total_Emissions'] = df[vehicle_emissions].sum(axis=1)\n",
    "    \n",
    "    # Standardize emissions by length (emissions per meter)\n",
    "    df['Emissions_Per_M'] = df['Total_Emissions'] / df['Length (m)']\n",
    "\n",
    "    # Calculate percentile ranks for Emissions_Per_M\n",
    "    df['PercentileRank'] = df['Emissions_Per_M'].rank(pct=True)\n",
    "    \n",
    "    # Assign emission categories based on percentile rank\n",
    "    df['EmissionCategory'] = pd.cut(df['PercentileRank'], \n",
    "                                    bins=[0, 1/3, 2/3, 1], \n",
    "                                    labels=['Low', 'Medium', 'High'], \n",
    "                                    include_lowest=True)\n",
    "    \n",
    "    # Drop unnecessary columns\n",
    "    df = df.drop(columns=['Pollutant', 'Total_Emissions', 'PercentileRank'] + vehicle_emissions)\n",
    "    \n",
    "    return df"
   ]
  },
  {
   "cell_type": "markdown",
   "metadata": {},
   "source": [
    "### Model Training"
   ]
  },
  {
   "cell_type": "code",
   "execution_count": 13,
   "metadata": {},
   "outputs": [
    {
     "data": {
      "text/html": [
       "<style>#sk-container-id-2 {color: black;background-color: white;}#sk-container-id-2 pre{padding: 0;}#sk-container-id-2 div.sk-toggleable {background-color: white;}#sk-container-id-2 label.sk-toggleable__label {cursor: pointer;display: block;width: 100%;margin-bottom: 0;padding: 0.3em;box-sizing: border-box;text-align: center;}#sk-container-id-2 label.sk-toggleable__label-arrow:before {content: \"▸\";float: left;margin-right: 0.25em;color: #696969;}#sk-container-id-2 label.sk-toggleable__label-arrow:hover:before {color: black;}#sk-container-id-2 div.sk-estimator:hover label.sk-toggleable__label-arrow:before {color: black;}#sk-container-id-2 div.sk-toggleable__content {max-height: 0;max-width: 0;overflow: hidden;text-align: left;background-color: #f0f8ff;}#sk-container-id-2 div.sk-toggleable__content pre {margin: 0.2em;color: black;border-radius: 0.25em;background-color: #f0f8ff;}#sk-container-id-2 input.sk-toggleable__control:checked~div.sk-toggleable__content {max-height: 200px;max-width: 100%;overflow: auto;}#sk-container-id-2 input.sk-toggleable__control:checked~label.sk-toggleable__label-arrow:before {content: \"▾\";}#sk-container-id-2 div.sk-estimator input.sk-toggleable__control:checked~label.sk-toggleable__label {background-color: #d4ebff;}#sk-container-id-2 div.sk-label input.sk-toggleable__control:checked~label.sk-toggleable__label {background-color: #d4ebff;}#sk-container-id-2 input.sk-hidden--visually {border: 0;clip: rect(1px 1px 1px 1px);clip: rect(1px, 1px, 1px, 1px);height: 1px;margin: -1px;overflow: hidden;padding: 0;position: absolute;width: 1px;}#sk-container-id-2 div.sk-estimator {font-family: monospace;background-color: #f0f8ff;border: 1px dotted black;border-radius: 0.25em;box-sizing: border-box;margin-bottom: 0.5em;}#sk-container-id-2 div.sk-estimator:hover {background-color: #d4ebff;}#sk-container-id-2 div.sk-parallel-item::after {content: \"\";width: 100%;border-bottom: 1px solid gray;flex-grow: 1;}#sk-container-id-2 div.sk-label:hover label.sk-toggleable__label {background-color: #d4ebff;}#sk-container-id-2 div.sk-serial::before {content: \"\";position: absolute;border-left: 1px solid gray;box-sizing: border-box;top: 0;bottom: 0;left: 50%;z-index: 0;}#sk-container-id-2 div.sk-serial {display: flex;flex-direction: column;align-items: center;background-color: white;padding-right: 0.2em;padding-left: 0.2em;position: relative;}#sk-container-id-2 div.sk-item {position: relative;z-index: 1;}#sk-container-id-2 div.sk-parallel {display: flex;align-items: stretch;justify-content: center;background-color: white;position: relative;}#sk-container-id-2 div.sk-item::before, #sk-container-id-2 div.sk-parallel-item::before {content: \"\";position: absolute;border-left: 1px solid gray;box-sizing: border-box;top: 0;bottom: 0;left: 50%;z-index: -1;}#sk-container-id-2 div.sk-parallel-item {display: flex;flex-direction: column;z-index: 1;position: relative;background-color: white;}#sk-container-id-2 div.sk-parallel-item:first-child::after {align-self: flex-end;width: 50%;}#sk-container-id-2 div.sk-parallel-item:last-child::after {align-self: flex-start;width: 50%;}#sk-container-id-2 div.sk-parallel-item:only-child::after {width: 0;}#sk-container-id-2 div.sk-dashed-wrapped {border: 1px dashed gray;margin: 0 0.4em 0.5em 0.4em;box-sizing: border-box;padding-bottom: 0.4em;background-color: white;}#sk-container-id-2 div.sk-label label {font-family: monospace;font-weight: bold;display: inline-block;line-height: 1.2em;}#sk-container-id-2 div.sk-label-container {text-align: center;}#sk-container-id-2 div.sk-container {/* jupyter's `normalize.less` sets `[hidden] { display: none; }` but bootstrap.min.css set `[hidden] { display: none !important; }` so we also need the `!important` here to be able to override the default hidden behavior on the sphinx rendered scikit-learn.org. See: https://github.com/scikit-learn/scikit-learn/issues/21755 */display: inline-block !important;position: relative;}#sk-container-id-2 div.sk-text-repr-fallback {display: none;}</style><div id=\"sk-container-id-2\" class=\"sk-top-container\"><div class=\"sk-text-repr-fallback\"><pre>Pipeline(steps=[(&#x27;transformation&#x27;,\n",
       "                 ColumnTransformer(remainder=&#x27;passthrough&#x27;,\n",
       "                                   transformers=[(&#x27;OneHotEncoder&#x27;,\n",
       "                                                  OneHotEncoder(handle_unknown=&#x27;ignore&#x27;),\n",
       "                                                  [&#x27;BoroughName_ExactCut&#x27;])])),\n",
       "                (&#x27;classification&#x27;,\n",
       "                 RandomForestClassifier(n_estimators=111, random_state=999))])</pre><b>In a Jupyter environment, please rerun this cell to show the HTML representation or trust the notebook. <br />On GitHub, the HTML representation is unable to render, please try loading this page with nbviewer.org.</b></div><div class=\"sk-container\" hidden><div class=\"sk-item sk-dashed-wrapped\"><div class=\"sk-label-container\"><div class=\"sk-label sk-toggleable\"><input class=\"sk-toggleable__control sk-hidden--visually\" id=\"sk-estimator-id-8\" type=\"checkbox\" ><label for=\"sk-estimator-id-8\" class=\"sk-toggleable__label sk-toggleable__label-arrow\">Pipeline</label><div class=\"sk-toggleable__content\"><pre>Pipeline(steps=[(&#x27;transformation&#x27;,\n",
       "                 ColumnTransformer(remainder=&#x27;passthrough&#x27;,\n",
       "                                   transformers=[(&#x27;OneHotEncoder&#x27;,\n",
       "                                                  OneHotEncoder(handle_unknown=&#x27;ignore&#x27;),\n",
       "                                                  [&#x27;BoroughName_ExactCut&#x27;])])),\n",
       "                (&#x27;classification&#x27;,\n",
       "                 RandomForestClassifier(n_estimators=111, random_state=999))])</pre></div></div></div><div class=\"sk-serial\"><div class=\"sk-item sk-dashed-wrapped\"><div class=\"sk-label-container\"><div class=\"sk-label sk-toggleable\"><input class=\"sk-toggleable__control sk-hidden--visually\" id=\"sk-estimator-id-9\" type=\"checkbox\" ><label for=\"sk-estimator-id-9\" class=\"sk-toggleable__label sk-toggleable__label-arrow\">transformation: ColumnTransformer</label><div class=\"sk-toggleable__content\"><pre>ColumnTransformer(remainder=&#x27;passthrough&#x27;,\n",
       "                  transformers=[(&#x27;OneHotEncoder&#x27;,\n",
       "                                 OneHotEncoder(handle_unknown=&#x27;ignore&#x27;),\n",
       "                                 [&#x27;BoroughName_ExactCut&#x27;])])</pre></div></div></div><div class=\"sk-parallel\"><div class=\"sk-parallel-item\"><div class=\"sk-item\"><div class=\"sk-label-container\"><div class=\"sk-label sk-toggleable\"><input class=\"sk-toggleable__control sk-hidden--visually\" id=\"sk-estimator-id-10\" type=\"checkbox\" ><label for=\"sk-estimator-id-10\" class=\"sk-toggleable__label sk-toggleable__label-arrow\">OneHotEncoder</label><div class=\"sk-toggleable__content\"><pre>[&#x27;BoroughName_ExactCut&#x27;]</pre></div></div></div><div class=\"sk-serial\"><div class=\"sk-item\"><div class=\"sk-estimator sk-toggleable\"><input class=\"sk-toggleable__control sk-hidden--visually\" id=\"sk-estimator-id-11\" type=\"checkbox\" ><label for=\"sk-estimator-id-11\" class=\"sk-toggleable__label sk-toggleable__label-arrow\">OneHotEncoder</label><div class=\"sk-toggleable__content\"><pre>OneHotEncoder(handle_unknown=&#x27;ignore&#x27;)</pre></div></div></div></div></div></div><div class=\"sk-parallel-item\"><div class=\"sk-item\"><div class=\"sk-label-container\"><div class=\"sk-label sk-toggleable\"><input class=\"sk-toggleable__control sk-hidden--visually\" id=\"sk-estimator-id-12\" type=\"checkbox\" ><label for=\"sk-estimator-id-12\" class=\"sk-toggleable__label sk-toggleable__label-arrow\">remainder</label><div class=\"sk-toggleable__content\"><pre>[&#x27;Length (m)&#x27;, &#x27;Emissions_Per_M&#x27;]</pre></div></div></div><div class=\"sk-serial\"><div class=\"sk-item\"><div class=\"sk-estimator sk-toggleable\"><input class=\"sk-toggleable__control sk-hidden--visually\" id=\"sk-estimator-id-13\" type=\"checkbox\" ><label for=\"sk-estimator-id-13\" class=\"sk-toggleable__label sk-toggleable__label-arrow\">passthrough</label><div class=\"sk-toggleable__content\"><pre>passthrough</pre></div></div></div></div></div></div></div></div><div class=\"sk-item\"><div class=\"sk-estimator sk-toggleable\"><input class=\"sk-toggleable__control sk-hidden--visually\" id=\"sk-estimator-id-14\" type=\"checkbox\" ><label for=\"sk-estimator-id-14\" class=\"sk-toggleable__label sk-toggleable__label-arrow\">RandomForestClassifier</label><div class=\"sk-toggleable__content\"><pre>RandomForestClassifier(n_estimators=111, random_state=999)</pre></div></div></div></div></div></div></div>"
      ],
      "text/plain": [
       "Pipeline(steps=[('transformation',\n",
       "                 ColumnTransformer(remainder='passthrough',\n",
       "                                   transformers=[('OneHotEncoder',\n",
       "                                                  OneHotEncoder(handle_unknown='ignore'),\n",
       "                                                  ['BoroughName_ExactCut'])])),\n",
       "                ('classification',\n",
       "                 RandomForestClassifier(n_estimators=111, random_state=999))])"
      ]
     },
     "execution_count": 13,
     "metadata": {},
     "output_type": "execute_result"
    }
   ],
   "source": [
    "# Filepath to the training dataset\n",
    "train_filepath = './data/emissions_clean_train.csv'\n",
    "\n",
    "# Preprocessing the training dataset\n",
    "train_df = preprocess(train_filepath)\n",
    "\n",
    "# Prepare features and target for training\n",
    "X_training = train_df.drop('EmissionCategory', axis=1)\n",
    "y_training = train_df['EmissionCategory']\n",
    "\n",
    "# Encoding categorical variables using One-Hot Encoding\n",
    "column_transformer = ColumnTransformer([\n",
    "    ('OneHotEncoder', OneHotEncoder(handle_unknown='ignore'), ['BoroughName_ExactCut'])\n",
    "], remainder='passthrough')\n",
    "\n",
    "# Pipeline for encoding and classification\n",
    "pipeline = Pipeline([\n",
    "    ('transformation', column_transformer),\n",
    "    ('classification', RandomForestClassifier(n_estimators=111, random_state=999))\n",
    "])\n",
    "\n",
    "# Training the model\n",
    "pipeline.fit(X_training, y_training)"
   ]
  },
  {
   "cell_type": "markdown",
   "metadata": {},
   "source": [
    "### Model Evaluation"
   ]
  },
  {
   "cell_type": "code",
   "execution_count": 14,
   "metadata": {},
   "outputs": [
    {
     "name": "stdout",
     "output_type": "stream",
     "text": [
      "              precision    recall  f1-score   support\n",
      "\n",
      "        High       1.00      0.99      1.00      2443\n",
      "         Low       1.00      1.00      1.00      2442\n",
      "      Medium       0.99      1.00      1.00      2442\n",
      "\n",
      "    accuracy                           1.00      7327\n",
      "   macro avg       1.00      1.00      1.00      7327\n",
      "weighted avg       1.00      1.00      1.00      7327\n",
      "\n"
     ]
    }
   ],
   "source": [
    "# Filepath to the test dataset\n",
    "test_filepath = './data/emissions_clean_test.csv'\n",
    "\n",
    "# Preprocessing the test dataset\n",
    "test_df = preprocess(test_filepath)\n",
    "\n",
    "# Prepare features and target for testing\n",
    "X_testing = test_df.drop('EmissionCategory', axis=1)\n",
    "y_testing = test_df['EmissionCategory']\n",
    "\n",
    "# Making predictions with the trained model\n",
    "y_prediction = pipeline.predict(X_testing)\n",
    "\n",
    "print(classification_report(y_testing, y_prediction))"
   ]
  }
 ],
 "metadata": {
  "kernelspec": {
   "display_name": "jupyter-notebook-tutorial",
   "language": "python",
   "name": "python3"
  },
  "language_info": {
   "codemirror_mode": {
    "name": "ipython",
    "version": 3
   },
   "file_extension": ".py",
   "mimetype": "text/x-python",
   "name": "python",
   "nbconvert_exporter": "python",
   "pygments_lexer": "ipython3",
   "version": "3.11.7"
  }
 },
 "nbformat": 4,
 "nbformat_minor": 2
}
